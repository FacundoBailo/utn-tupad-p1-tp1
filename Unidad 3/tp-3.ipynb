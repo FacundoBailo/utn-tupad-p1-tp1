{
 "cells": [
  {
   "cell_type": "code",
   "execution_count": null,
   "id": "c2d36704",
   "metadata": {},
   "outputs": [
    {
     "name": "stdout",
     "output_type": "stream",
     "text": [
      "Es mayor de edad\n"
     ]
    }
   ],
   "source": [
    "# Ejercicio 1 - Escribir un programa que solicite la edad del usuario. Si el usuario es mayor de 18 años, \n",
    "# deberá mostrar un mensaje en pantalla que diga “Es mayor de edad”.\n",
    "\n",
    "\n",
    "edad_usuario = int( input( \"Ingrese su edad\"))\n",
    "\n",
    "if edad_usuario >= 18:\n",
    "    print(\"Es mayor de edad\")"
   ]
  },
  {
   "cell_type": "code",
   "execution_count": 8,
   "id": "50d2a09d",
   "metadata": {},
   "outputs": [
    {
     "name": "stdout",
     "output_type": "stream",
     "text": [
      "Desaprobado\n"
     ]
    }
   ],
   "source": [
    "# Ejercicio 2 - Escribir un programa que solicite su nota al usuario. Si la nota es mayor o igual a 6, deberá \n",
    "# mostrar por pantalla un mensaje que diga “Aprobado”; en caso contrario deberá mostrar el \n",
    "# mensaje “Desaprobado”.\n",
    "\n",
    "nota_usuario = float( input( \"Ingrese su nota\"))\n",
    "\n",
    "if nota_usuario >= 6: \n",
    "    print(\"Aprobado\")\n",
    "else:\n",
    "    print(\"Desaprobado\")"
   ]
  },
  {
   "cell_type": "code",
   "execution_count": 14,
   "id": "e6b469b3",
   "metadata": {},
   "outputs": [
    {
     "name": "stdout",
     "output_type": "stream",
     "text": [
      "Por favor, ingrese un número par\n"
     ]
    }
   ],
   "source": [
    "# Ejercicio 3 -  Escribir un programa que permita ingresar solo números pares. Si el usuario ingresa un \n",
    "# número par, imprimir por en pantalla el mensaje \"Ha ingresado un número par\"; en caso \n",
    "# contrario, imprimir por pantalla \"Por favor, ingrese un número par\"\". Nota: investigar el uso del \n",
    "# operador de módulo (%) en Python para evaluar si un número es par o impar. \n",
    "\n",
    "numero = int( input(\"Ingrese un numero par\") )\n",
    "\n",
    "if numero % 2 == 0 : \n",
    "    print(\"Ha ingresado un número par\")\n",
    "else: \n",
    "    print(\"Por favor, ingrese un número par\")\n",
    "\n"
   ]
  },
  {
   "cell_type": "code",
   "execution_count": 7,
   "id": "a0a56443",
   "metadata": {},
   "outputs": [
    {
     "name": "stdout",
     "output_type": "stream",
     "text": [
      "Es un adulto\n"
     ]
    }
   ],
   "source": [
    "# Ejercicio 4 - Escribir un programa que solicite al usuario su edad e imprima por pantalla a cuál de las \n",
    "# siguientes categorías pertenece: \n",
    "# ● Niño/a: menor de 12 años. \n",
    "# ● Adolescente: mayor o igual que 12 años y menor que 18 años. \n",
    "# ● Adulto/a joven: mayor o igual que 18 años y menor que 30 años. \n",
    "# ● Adulto/a: mayor o igual que 30 años.\n",
    "\n",
    "edad_usuario = int( input(\"Ingrese su edad\"))\n",
    "\n",
    "if edad_usuario < 12:\n",
    "    print(\"Es un niño/a\")\n",
    "elif edad_usuario >= 12 and edad_usuario < 18:\n",
    "    print(\"Es un adolecente\")\n",
    "elif edad_usuario >= 18 and edad_usuario < 30:\n",
    "    print(\"Es un adulto joven\")\n",
    "elif edad_usuario >= 30:\n",
    "    print(\"Es un adulto\")"
   ]
  },
  {
   "cell_type": "code",
   "execution_count": 11,
   "id": "537e840a",
   "metadata": {},
   "outputs": [
    {
     "name": "stdout",
     "output_type": "stream",
     "text": [
      "Por favor, ingrese una contraseña de entre 8 y 14 caracteres\n"
     ]
    }
   ],
   "source": [
    "# Ejercicio 5 - Escribir un programa que permita introducir contraseñas de entre 8 y 14 caracteres \n",
    "# (incluyendo 8 y 14). Si el usuario ingresa una contraseña de longitud adecuada, imprimir por en \n",
    "# pantalla el mensaje \"Ha ingresado una contraseña correcta\"; en caso contrario, imprimir por \n",
    "# pantalla \"Por favor, ingrese una contraseña de entre 8 y 14 caracteres\". Nota: investigue el uso \n",
    "# de la función len() en Python para evaluar la cantidad de elementos que tiene un iterable tal \n",
    "# como una lista o un string. \n",
    "\n",
    "contraseña = input(\"Ingrese su contraseña\")\n",
    "\n",
    "if len(contraseña) >= 8 and len(contraseña) <= 14:\n",
    "    print(\"Ha ingresado una contraseña correcta\")\n",
    "else:\n",
    "    print(\"Por favor, ingrese una contraseña de entre 8 y 14 caracteres\")"
   ]
  },
  {
   "cell_type": "code",
   "execution_count": 46,
   "id": "ded4341c",
   "metadata": {},
   "outputs": [
    {
     "name": "stdout",
     "output_type": "stream",
     "text": [
      "Sesgo negativo o a la izquierda\n"
     ]
    }
   ],
   "source": [
    "# Ejercicio 6 - \n",
    "\n",
    "import random\n",
    "from statistics import mode, median, mean \n",
    "\n",
    "numeros_aleatorios = [random.randint(1, 100) for i in range(50)]\n",
    "\n",
    "valor_mode = mode(numeros_aleatorios)\n",
    "valor_median = median(numeros_aleatorios)\n",
    "valor_mean = mean(numeros_aleatorios)\n",
    "\n",
    "if valor_mean > valor_median and valor_median > valor_mode:\n",
    "    print(\"Sesgo positivo o a la derecha\")\n",
    "elif valor_mean == valor_median and valor_median == valor_mode:\n",
    "    print(\"Sin sesgo\")\n",
    "else:\n",
    "    print(\"Sesgo negativo o a la izquierda\")\n"
   ]
  },
  {
   "cell_type": "code",
   "execution_count": null,
   "id": "57c9c274",
   "metadata": {},
   "outputs": [],
   "source": [
    "# Ejercicio 7 - Escribir un programa que solicite una frase o palabra al usuario. Si el string ingresado \n",
    "# termina con vocal, añadir un signo de exclamación al final e imprimir el string resultante por \n",
    "# pantalla; en caso contrario, dejar el string tal cual lo ingresó el usuario e imprimirlo por \n",
    "# pantalla. "
   ]
  },
  {
   "cell_type": "code",
   "execution_count": null,
   "id": "bba962bd",
   "metadata": {},
   "outputs": [],
   "source": [
    "# Ejercicio 8 - Escribir un programa que solicite al usuario que ingrese su nombre y el número 1, 2 o 3 \n",
    "# dependiendo de la opción que desee: \n",
    "# 1. Si quiere su nombre en mayúsculas. Por ejemplo: PEDRO. \n",
    "# 2. Si quiere su nombre en minúsculas. Por ejemplo: pedro. \n",
    "# 3. Si quiere su nombre con la primera letra mayúscula. Por ejemplo: Pedro. \n",
    "# El programa debe transformar el nombre ingresado de acuerdo a la opción seleccionada por el \n",
    "# usuario e imprimir el resultado por pantalla. Nota: investigue uso de las funciones upper(), \n",
    "# lower() y title() de Python para convertir entre mayúsculas y minúsculas."
   ]
  },
  {
   "cell_type": "code",
   "execution_count": null,
   "id": "3b42b8f1",
   "metadata": {},
   "outputs": [],
   "source": [
    "# Ejercicio 9 - Escribir un programa que pida al usuario la magnitud de un terremoto, clasifique la \n",
    "# magnitud en una de las siguientes categorías según la escala de Richter e imprima el resultado \n",
    "# por pantalla: \n",
    "# ● Menor que 3: \"Muy leve\" (imperceptible). \n",
    "# ● Mayor o igual que 3  y menor que 4: \"Leve\" (ligeramente perceptible). \n",
    "# ● Mayor o igual que 4  y menor que 5: \"Moderado\" (sentido por personas, pero \n",
    "# generalmente no causa daños). \n",
    "# ● Mayor o igual que 5  y menor que 6: \"Fuerte\" (puede causar daños en estructuras \n",
    "# débiles). \n",
    "# ● Mayor o igual que 6  y menor que 7: \"Muy Fuerte\" (puede causar daños significativos). \n",
    "# ● Mayor o igual que 7: \"Extremo\" (puede causar graves daños a gran escala). "
   ]
  },
  {
   "cell_type": "code",
   "execution_count": null,
   "id": "ca57f226",
   "metadata": {},
   "outputs": [],
   "source": [
    "# Ejercicio 10 - "
   ]
  }
 ],
 "metadata": {
  "kernelspec": {
   "display_name": "Python 3",
   "language": "python",
   "name": "python3"
  },
  "language_info": {
   "codemirror_mode": {
    "name": "ipython",
    "version": 3
   },
   "file_extension": ".py",
   "mimetype": "text/x-python",
   "name": "python",
   "nbconvert_exporter": "python",
   "pygments_lexer": "ipython3",
   "version": "3.13.5"
  }
 },
 "nbformat": 4,
 "nbformat_minor": 5
}
