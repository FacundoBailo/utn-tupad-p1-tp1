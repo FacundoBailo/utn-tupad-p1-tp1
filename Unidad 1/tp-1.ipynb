{
 "cells": [
  {
   "cell_type": "code",
   "execution_count": null,
   "id": "c4634717",
   "metadata": {},
   "outputs": [],
   "source": [
    "#Ejercicio 1\n",
    "\n",
    "print(\"Hola mundo\")"
   ]
  },
  {
   "cell_type": "code",
   "execution_count": null,
   "id": "38bbb783",
   "metadata": {},
   "outputs": [],
   "source": [
    "#Ejercicio 2\n",
    "\n",
    "nombre = input(\"Ingrese su nombre\")\n",
    "\n",
    "print(f\"Hola { nombre }!\")"
   ]
  },
  {
   "cell_type": "code",
   "execution_count": null,
   "id": "823166ae",
   "metadata": {},
   "outputs": [],
   "source": [
    "#Ejercicio 3\n",
    "\n",
    "nombre = input(\"Ingrese su nombre\")\n",
    "apellido = input(\"Ingrese su apllido\")\n",
    "edad = int(input(\"Ingrese su edad\"))\n",
    "nacionalidad = input(\"Indique su pais de recidencia\")\n",
    "\n",
    "print( f\"Mi nombre es { nombre } { apellido }, tengo { edad } años y soy de { nacionalidad }\")"
   ]
  },
  {
   "cell_type": "code",
   "execution_count": null,
   "id": "3f1d4003",
   "metadata": {},
   "outputs": [],
   "source": [
    "#Ejercicio 4\n",
    "\n",
    "radio = float( input( \"Ingrese el radio de un circulo\" ))\n",
    "\n",
    "area = 3.14 * ( radio ** 2 )\n",
    "\n",
    "perimetro = 2 * 3.14 * radio\n",
    "\n",
    "print(f\"El area del circulo es { area } y su perimetro { perimetro }\")"
   ]
  },
  {
   "cell_type": "code",
   "execution_count": null,
   "id": "2460f222",
   "metadata": {},
   "outputs": [],
   "source": [
    "#Ejercicio 5 \n",
    "\n",
    "segundos = float( input( \"Ingrese la cantidad de segundos\" ))\n",
    "horas = segundos / 3600\n",
    "\n",
    "print(f\"La cantidad de segundos ingresados equivalen a { horas } horas\")\n",
    "\n"
   ]
  },
  {
   "cell_type": "code",
   "execution_count": null,
   "id": "d70f01bd",
   "metadata": {},
   "outputs": [],
   "source": [
    "#Ejercicio 6 \n",
    "\n",
    "numero = float( input ( \"Ingrese un numero\" ))\n",
    "\n",
    "numero1 = numero * 1\n",
    "numero2 = numero * 2\n",
    "numero3 = numero * 3\n",
    "numero4 = numero * 4\n",
    "numero5 = numero * 5\n",
    "numero6 = numero * 6\n",
    "numero7 = numero * 7\n",
    "numero8 = numero * 8\n",
    "numero9 = numero * 9\n",
    "numero10 = numero * 10\n",
    "\n",
    "\n",
    "print(f\"La tabla de multiplicar del numero ingresado es: \" \\\n",
    "f\"{ numero } * 1 = { numero1 }, \" \\\n",
    "f\"{ numero } * 2 = { numero2 }, \" \\\n",
    "f\"{ numero } * 3 = { numero3 }, \" \\\n",
    "f\"{ numero } * 4 = { numero4 }, \" \\\n",
    "f\"{ numero } * 5 = { numero5 }, \" \\\n",
    "f\"{ numero } * 6 = { numero6 }, \" \\\n",
    "f\"{ numero } * 7 = { numero7 }, \" \\\n",
    "f\"{ numero } * 8 = { numero8 }, \" \\\n",
    "f\"{ numero } * 9 = { numero9 }, \" \\\n",
    "f\"{ numero } * 10 = { numero10 }\")"
   ]
  },
  {
   "cell_type": "code",
   "execution_count": null,
   "id": "b2b3ff5d",
   "metadata": {},
   "outputs": [],
   "source": [
    "#Ejercicio 7 \n",
    "\n",
    "numero1 = int( input(\"Ingrese un número entero distintos del 0\" ))\n",
    "numero2 = int( input(\"Ingrese otro número entero distintos del 0\" ))\n",
    "\n",
    "suma = numero1 + numero2\n",
    "resta = numero1 - numero2\n",
    "multiplicacion = numero1 * numero2\n",
    "division = numero / numero2\n",
    "\n",
    "print(\"Los resultados son: \" \\\n",
    "f\"Suma: { suma }, \"\n",
    "f\"Resta: { resta }, \"\n",
    "f\"Multiplicacion: { multiplicacion }, \"\n",
    "f\"Division: { division }, \"\n",
    ")"
   ]
  },
  {
   "cell_type": "code",
   "execution_count": null,
   "id": "560da883",
   "metadata": {},
   "outputs": [],
   "source": [
    "#Ejercicio 8\n",
    "\n",
    "peso = float( input(\"Ingrese su peso en KG\" ))\n",
    "altura = float( input(\"Ingrese su estaturo en Metros\" ))\n",
    "IMC = peso / ( altura ** 2 )\n",
    "\n",
    "print(f\"Su Indice de Masa Corporal es: { IMC }\")"
   ]
  },
  {
   "cell_type": "code",
   "execution_count": null,
   "id": "727bfe8b",
   "metadata": {},
   "outputs": [],
   "source": [
    "#Ejercicio 9\n",
    "\n",
    "celcius = float( input( \"Ingrese una temperatura en grados Celcius\" ))\n",
    "fahrenheit = (celcius *9/5 ) + 32\n",
    "\n",
    "print(f\"El equivalente en Farenheit de { celcius}ºC es: { fahrenheit }ºF\")\n",
    "\n"
   ]
  },
  {
   "cell_type": "code",
   "execution_count": null,
   "id": "0e0395ce",
   "metadata": {},
   "outputs": [],
   "source": [
    "#Ejercicio 10\n",
    "\n",
    "numero1 = float( input( \"Ingrese el primer numero\" ))\n",
    "\n",
    "numero2 = float( input( \"Ingrese el sugundo numero\" )) \n",
    "\n",
    "numero3 = float( input( \"Ingrese el tercer numero\" )) \n",
    "\n",
    "promedio = (numero1 + numero2 + numero3) / 3\n",
    "\n",
    "print(f\"El promedio de los numeros ingresados es: { promedio } \")\n"
   ]
  }
 ],
 "metadata": {
  "kernelspec": {
   "display_name": "Python 3",
   "language": "python",
   "name": "python3"
  },
  "language_info": {
   "codemirror_mode": {
    "name": "ipython",
    "version": 3
   },
   "file_extension": ".py",
   "mimetype": "text/x-python",
   "name": "python",
   "nbconvert_exporter": "python",
   "pygments_lexer": "ipython3",
   "version": "3.13.5"
  }
 },
 "nbformat": 4,
 "nbformat_minor": 5
}
