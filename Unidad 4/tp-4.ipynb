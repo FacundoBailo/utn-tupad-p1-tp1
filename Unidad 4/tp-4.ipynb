{
 "cells": [
  {
   "cell_type": "code",
   "execution_count": null,
   "id": "5543e360",
   "metadata": {},
   "outputs": [],
   "source": [
    "#Ejercicio 1\n",
    "\n",
    "numero = 0\n",
    "\n",
    "while numero < 101:\n",
    "    print( numero )\n",
    "    numero += 1"
   ]
  },
  {
   "cell_type": "code",
   "execution_count": null,
   "id": "90dcca3b",
   "metadata": {},
   "outputs": [],
   "source": [
    "#Ejercicio 2\n",
    "\n",
    "numero = int(input(\"Ingrese un numero entero\"))\n",
    "contador = 1\n",
    "\n",
    "while numero >= 10:\n",
    "\n",
    "    numero = numero /10 \n",
    "    contador += 1\n",
    "\n",
    "print(f\"El numero ingresado es de { contador } digitos\")\n",
    "\n"
   ]
  },
  {
   "cell_type": "code",
   "execution_count": null,
   "id": "8985ff38",
   "metadata": {},
   "outputs": [],
   "source": [
    "#Ejercicio 3\n",
    "\n",
    "num1 = int(input(\"Ingrese un numero entero\"))\n",
    "num2 = int(input(\"Ingrese otro numero entero\"))\n",
    "\n",
    "suma = 0\n",
    "\n",
    "for num in range (num1 + 1, num2):\n",
    "    suma += num\n",
    "print(f\"La suma total entre todos los numero comprendidos entre los numero ingresados es: { suma } \")"
   ]
  },
  {
   "cell_type": "code",
   "execution_count": null,
   "id": "28325745",
   "metadata": {},
   "outputs": [],
   "source": [
    "#Ejercicio 4\n",
    "\n",
    "num = int(input(\"Ingrese un numero entero (si no quiere ingresar ningun numero ingrese 0)\"))\n",
    "suma = 0\n",
    "\n",
    "while num != 0:\n",
    "    num = int(input(\"Ingrese un numero entero (si no quiere ingresar ningun numero ingrese 0)\"))\n",
    "    suma += num\n",
    "\n",
    "print(f\"La suma entre todos los numero ingresados es: { suma }\")"
   ]
  },
  {
   "cell_type": "code",
   "execution_count": null,
   "id": "3c1d9e1b",
   "metadata": {},
   "outputs": [],
   "source": [
    "#Ejercicio 5\n",
    "\n",
    "import random\n",
    "\n",
    "numero = random.randint(0, 9)\n",
    "resp = 10\n",
    "contador = 0\n",
    "\n",
    "while resp != numero:\n",
    "    resp = int(input(\"Adivine el numero entero entre 0 y 9\"))\n",
    "    contador += 1\n",
    "\n",
    "print(f\"Correcto! El numero era: { numero }. Numero de intentos hasta adivinar: { contador }\")"
   ]
  },
  {
   "cell_type": "code",
   "execution_count": null,
   "id": "c16bc336",
   "metadata": {},
   "outputs": [],
   "source": [
    "#Ejercicio 6\n",
    "\n",
    "num = 0\n",
    "\n",
    "for num in range (0, 102 , 2):\n",
    "    print(num)"
   ]
  },
  {
   "cell_type": "code",
   "execution_count": null,
   "id": "8884bdb6",
   "metadata": {},
   "outputs": [],
   "source": [
    "#Ejercicio 7\n",
    "\n",
    "numero = int(input(\"Ingrese un numero entero positivo\"))\n",
    "suma = 0\n",
    "\n",
    "if numero < 0: \n",
    "    while numero < 0:\n",
    "        numero = int(input(\"Ingrese un numero entero positivo\"))\n",
    "    for i in range(0, numero + 1):\n",
    "        suma += i\n",
    "else:\n",
    "    for i in range(0, numero + 1):\n",
    "        suma += i\n",
    "\n",
    "\n",
    "print(f\"La suma total entre 0 y el numero ingresado es: {suma}\")\n"
   ]
  },
  {
   "cell_type": "code",
   "execution_count": null,
   "id": "9894720d",
   "metadata": {},
   "outputs": [],
   "source": [
    "#Ejercicio 8\n",
    "\n",
    "pares = 0\n",
    "impares = 0\n",
    "negativos = 0\n",
    "positvos = 0\n",
    "\n",
    "for i in range(0,101):\n",
    "    numero = int(input(\"Ingrese un numero entero\"))\n",
    "\n",
    "    if numero % 2 == 0:\n",
    "        pares += 1\n",
    "\n",
    "        if numero < 0:\n",
    "            negativos += 1\n",
    "        else:\n",
    "            positvos += 1\n",
    "\n",
    "    elif numero % 2 != 0:\n",
    "        impares += 1\n",
    "\n",
    "        if numero < 0:\n",
    "            negativos += 1\n",
    "        else:\n",
    "            positvos += 1\n",
    "\n",
    "\n",
    "print(f\"La cantidad de numeros pares ingresados es: { pares }, la cantidad de impares: { impares }, la cantidad de negativos: { negativos} y la de positivos: { positvos }\")\n",
    "    "
   ]
  },
  {
   "cell_type": "code",
   "execution_count": null,
   "id": "1b742b10",
   "metadata": {},
   "outputs": [],
   "source": [
    "#Ejercicio 9\n",
    "\n",
    "cantidad = int(input(\"Indique cuantos numeros desea ingresar\"))\n",
    "suma = 0\n",
    "promedio = 0\n",
    "\n",
    "for i in range (0, cantidad ):\n",
    "    numero = int(input(\"Ingrese un numero entero\"))\n",
    "    suma += numero\n",
    "\n",
    "promedio = suma / cantidad\n",
    "\n",
    "print(f\"El promedio de los numeros ingresados es: { promedio }\")\n",
    "\n"
   ]
  },
  {
   "cell_type": "code",
   "execution_count": 21,
   "id": "3d7816a1",
   "metadata": {},
   "outputs": [
    {
     "name": "stdout",
     "output_type": "stream",
     "text": [
      "Su numero ingresado invertido es: 3221\n"
     ]
    }
   ],
   "source": [
    "#Ejercicio 10 \n",
    "\n",
    "numero = int(input(\"Ingrese un numero entero\"))\n",
    "numero_invertido = 0\n",
    "digito  = 0\n",
    "\n",
    "while numero > 0:\n",
    "   digito = numero % 10\n",
    "   numero_invertido = ( numero_invertido * 10 ) + digito\n",
    "   numero = numero // 10\n",
    "\n",
    "print(f\"Su numero ingresado invertido es: {numero_invertido}\")"
   ]
  }
 ],
 "metadata": {
  "kernelspec": {
   "display_name": "Python 3",
   "language": "python",
   "name": "python3"
  },
  "language_info": {
   "codemirror_mode": {
    "name": "ipython",
    "version": 3
   },
   "file_extension": ".py",
   "mimetype": "text/x-python",
   "name": "python",
   "nbconvert_exporter": "python",
   "pygments_lexer": "ipython3",
   "version": "3.13.5"
  }
 },
 "nbformat": 4,
 "nbformat_minor": 5
}
