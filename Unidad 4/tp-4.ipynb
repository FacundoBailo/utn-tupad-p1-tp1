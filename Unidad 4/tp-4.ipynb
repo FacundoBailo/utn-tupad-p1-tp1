{
 "cells": [
  {
   "cell_type": "code",
   "execution_count": null,
   "id": "5543e360",
   "metadata": {},
   "outputs": [],
   "source": [
    "numero = 0\n",
    "\n",
    "while numero < 101:\n",
    "    print( numero )\n",
    "    numero += 1"
   ]
  },
  {
   "cell_type": "code",
   "execution_count": null,
   "id": "90dcca3b",
   "metadata": {},
   "outputs": [],
   "source": [
    "numero = int(input(\"Ingrese un numero entero\"))\n",
    "contador = 1\n",
    "\n",
    "while numero >= 10:\n",
    "\n",
    "    numero = numero /10 \n",
    "    contador += 1\n",
    "\n",
    "print(f\"El numero ingresado es de { contador } digitos\")\n",
    "\n"
   ]
  },
  {
   "cell_type": "code",
   "execution_count": null,
   "id": "8985ff38",
   "metadata": {},
   "outputs": [],
   "source": [
    "num1 = int(input(\"Ingrese un numero entero\"))\n",
    "num2 = int(input(\"Ingrese otro numero entero\"))\n",
    "\n",
    "suma = 0\n",
    "\n",
    "for num in range (num1 + 1, num2):\n",
    "    suma += num\n",
    "print(f\"La suma total entre todos los numero comprendidos entre los numero ingresados es: { suma } \")"
   ]
  },
  {
   "cell_type": "code",
   "execution_count": null,
   "id": "28325745",
   "metadata": {},
   "outputs": [],
   "source": [
    "num = int(input(\"Ingrese un numero entero (si no quiere ingresar ningun numero ingrese 0)\"))\n",
    "suma = 0\n",
    "\n",
    "while num != 0:\n",
    "    num = int(input(\"Ingrese un numero entero (si no quiere ingresar ningun numero ingrese 0)\"))\n",
    "    suma += num\n",
    "\n",
    "print(f\"La suma entre todos los numero ingresados es: { suma }\")"
   ]
  },
  {
   "cell_type": "code",
   "execution_count": null,
   "id": "3c1d9e1b",
   "metadata": {},
   "outputs": [],
   "source": [
    "import random\n",
    "\n",
    "numero = random.randint(0, 9)\n",
    "resp = 10\n",
    "contador = 0\n",
    "\n",
    "while resp != numero:\n",
    "    resp = int(input(\"Adivine el numero entero entre 0 y 9\"))\n",
    "    contador += 1\n",
    "\n",
    "print(f\"Correcto! El numero era: { numero }. Numero de intentos hasta adivinar: { contador }\")"
   ]
  },
  {
   "cell_type": "code",
   "execution_count": 17,
   "id": "c16bc336",
   "metadata": {},
   "outputs": [
    {
     "name": "stdout",
     "output_type": "stream",
     "text": [
      "0\n",
      "2\n",
      "4\n",
      "6\n",
      "8\n",
      "10\n",
      "12\n",
      "14\n",
      "16\n",
      "18\n",
      "20\n",
      "22\n",
      "24\n",
      "26\n",
      "28\n",
      "30\n",
      "32\n",
      "34\n",
      "36\n",
      "38\n",
      "40\n",
      "42\n",
      "44\n",
      "46\n",
      "48\n",
      "50\n",
      "52\n",
      "54\n",
      "56\n",
      "58\n",
      "60\n",
      "62\n",
      "64\n",
      "66\n",
      "68\n",
      "70\n",
      "72\n",
      "74\n",
      "76\n",
      "78\n",
      "80\n",
      "82\n",
      "84\n",
      "86\n",
      "88\n",
      "90\n",
      "92\n",
      "94\n",
      "96\n",
      "98\n",
      "100\n"
     ]
    }
   ],
   "source": [
    "num = 0\n",
    "\n",
    "for num in range (0, 102 , 2):\n",
    "    print(num)"
   ]
  }
 ],
 "metadata": {
  "kernelspec": {
   "display_name": "Python 3",
   "language": "python",
   "name": "python3"
  },
  "language_info": {
   "codemirror_mode": {
    "name": "ipython",
    "version": 3
   },
   "file_extension": ".py",
   "mimetype": "text/x-python",
   "name": "python",
   "nbconvert_exporter": "python",
   "pygments_lexer": "ipython3",
   "version": "3.13.5"
  }
 },
 "nbformat": 4,
 "nbformat_minor": 5
}
